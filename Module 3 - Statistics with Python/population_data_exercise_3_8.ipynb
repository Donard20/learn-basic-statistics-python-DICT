{
 "cells": [
  {
   "cell_type": "code",
   "execution_count": 4,
   "id": "daa27bc5",
   "metadata": {},
   "outputs": [
    {
     "name": "stdout",
     "output_type": "stream",
     "text": [
      "Mean: 151.3\n",
      "Median: 157.0\n",
      "Mode: 103\n",
      "Range: 85\n",
      "Variance: 894.81\n",
      "Standard Deviation: 29.91\n"
     ]
    }
   ],
   "source": [
    "import numpy as np\n",
    "import statistics as stat\n",
    "\n",
    "p_data = [103,151,176,188,146,184,175,112,115,163]\n",
    "\n",
    "def display_stat():\n",
    "    print(\"Mean:\",mean)\n",
    "    print(\"Median:\",median)\n",
    "    print(\"Mode:\",mode)\n",
    "    print(\"Range:\",srange)\n",
    "    print(\"Variance:\",variance)\n",
    "    print(\"Standard Deviation:\",pstdev)\n",
    "\n",
    "mean = np.mean(p_data)\n",
    "median = np.median(p_data)\n",
    "mode = stat.mode(p_data)\n",
    "srange = np.ptp(p_data)\n",
    "variance = round(np.var(p_data), 2)\n",
    "pstdev = round(np.std(p_data), 2)\n",
    "\n",
    "display_stat()\n"
   ]
  }
 ],
 "metadata": {
  "kernelspec": {
   "display_name": "Python 3 (ipykernel)",
   "language": "python",
   "name": "python3"
  },
  "language_info": {
   "codemirror_mode": {
    "name": "ipython",
    "version": 3
   },
   "file_extension": ".py",
   "mimetype": "text/x-python",
   "name": "python",
   "nbconvert_exporter": "python",
   "pygments_lexer": "ipython3",
   "version": "3.9.12"
  }
 },
 "nbformat": 4,
 "nbformat_minor": 5
}
