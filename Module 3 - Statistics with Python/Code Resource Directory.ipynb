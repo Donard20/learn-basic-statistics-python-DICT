{
 "cells": [
  {
   "cell_type": "markdown",
   "id": "379088a1",
   "metadata": {},
   "source": [
    "## Mean | Code"
   ]
  },
  {
   "cell_type": "code",
   "execution_count": 1,
   "id": "c911d2f2",
   "metadata": {},
   "outputs": [
    {
     "name": "stdout",
     "output_type": "stream",
     "text": [
      "The mean of this list is 81.5\n"
     ]
    }
   ],
   "source": [
    "def get_mean(ave):                   #--define function\n",
    "    print(\"The mean of this list is\", ave)\n",
    "\n",
    "n_num = [78, 80, 79, 80, 87, 85]     #--data list\n",
    "n = len(n_num)                       #--how many items in the list\n",
    "\n",
    "get_sum = sum(n_num)                 #--summation of the list\n",
    "mean = get_sum / n                   #--get the mean\n",
    "\n",
    "m = str(mean)                        #--convert the result into string\n",
    "\n",
    "get_mean(m)                          #--call function"
   ]
  },
  {
   "cell_type": "markdown",
   "id": "fa77afa0",
   "metadata": {},
   "source": [
    "## Median | Code"
   ]
  },
  {
   "cell_type": "code",
   "execution_count": 9,
   "id": "1f034007",
   "metadata": {},
   "outputs": [
    {
     "name": "stdout",
     "output_type": "stream",
     "text": [
      "Median:  80.0\n"
     ]
    }
   ],
   "source": [
    "import array as arr         #--import array library\n",
    "\n",
    "def median(nums):\n",
    "    nums.sort()\n",
    "    if len(nums) % 2 == 0:\n",
    "        return int(nums[len(nums)//2-1]+nums[len(nums)//2])/2\n",
    "    else:\n",
    "        return nums[len(nums)//2]\n",
    "\n",
    "n_num = [78, 80, 79, 80, 87, 85]        #--list data\n",
    "\n",
    "print(\"Median: \", median(n_num))"
   ]
  },
  {
   "cell_type": "markdown",
   "id": "683467ff",
   "metadata": {},
   "source": [
    "## Variance | Code "
   ]
  },
  {
   "cell_type": "code",
   "execution_count": 10,
   "id": "75ca1c18",
   "metadata": {},
   "outputs": [
    {
     "name": "stdout",
     "output_type": "stream",
     "text": [
      "Variance: 5.09\n"
     ]
    }
   ],
   "source": [
    "friends_usage = [5, 4, 3, 4, 8, 2, 5, 2, 5, 8, 10, 8, 7, 8, 7, 9, 10, 5, 7, 5, 7, 5, 4, 3, 5, 8, 4]\n",
    "\n",
    "def print_friends_usage(friends_usage):\n",
    "    for usage in friends_usage:\n",
    "        print(g)\n",
    "\n",
    "def friends_usage_sum(friends_usage):\n",
    "    total = 0\n",
    "    for usage in friends_usage:\n",
    "        total += usage\n",
    "    return total\n",
    "\n",
    "def friends_usage_average(friends_usage):\n",
    "    sum_of_friends_usage = friends_usage_sum(friends_usage)\n",
    "    average = sum_of_friends_usage / float(len(friends_usage))\n",
    "    return average\n",
    "\n",
    "def friends_usage_variance(scores):\n",
    "    average = friends_usage_average(scores)\n",
    "    variance = 0\n",
    "    for score in scores:\n",
    "        variance = variance + (average - score) ** 2\n",
    "    return variance/len(scores)\n",
    "v = round(friends_usage_variance(friends_usage), 2)\n",
    "print(\"Variance:\", v)"
   ]
  },
  {
   "cell_type": "markdown",
   "id": "a744a0e5",
   "metadata": {},
   "source": [
    "## Standard Deviation | Code "
   ]
  },
  {
   "cell_type": "code",
   "execution_count": 11,
   "id": "950eb183",
   "metadata": {},
   "outputs": [
    {
     "name": "stdout",
     "output_type": "stream",
     "text": [
      "Stanard Deviation: 2.41\n"
     ]
    }
   ],
   "source": [
    "def friends_usage_std_deviation(variance):\n",
    "    return variance ** 0.54\n",
    "\n",
    "variance = friends_usage_variance(friends_usage)\n",
    "s = round(friends_usage_std_deviation(variance), 2)\n",
    "print(\"Stanard Deviation:\", s)"
   ]
  },
  {
   "cell_type": "markdown",
   "id": "7b99653c",
   "metadata": {},
   "source": [
    "## Descriptive Statistics (Population) "
   ]
  },
  {
   "cell_type": "markdown",
   "id": "32f76127",
   "metadata": {},
   "source": [
    "### Using Python's statistics module"
   ]
  },
  {
   "cell_type": "code",
   "execution_count": 12,
   "id": "997fa011",
   "metadata": {},
   "outputs": [
    {
     "name": "stdout",
     "output_type": "stream",
     "text": [
      "Descriptive Statistics\n",
      "Mean:  5.851851851851852\n",
      "Mode:  5\n",
      "Median:  5\n",
      "Range:  8\n",
      "Population Variances:  5.09\n",
      "Population Standard Deviation:  2.26\n"
     ]
    }
   ],
   "source": [
    "import statistics\n",
    "\n",
    "friends_usage = [5, 4, 3, 4, 8, 2, 5, 2, 5, 8, 10, 8, 7, 8, 7, 9, 10, 5, 7, 5, 7, 5, 4, 3, 5, 8, 4]\n",
    "\n",
    "#descriptive statistics\n",
    "mean = statistics.mean(friends_usage)\n",
    "mode = statistics.mode(friends_usage)\n",
    "median = statistics.median(friends_usage)\n",
    "\n",
    "#inferential statistics\n",
    "pstdev = round(statistics.pstdev(friends_usage), 2)\n",
    "pvariance = round(statistics.pvariance(friends_usage), 2)\n",
    "srange = (max(friends_usage) - min(friends_usage))\n",
    "\n",
    "print(\"Descriptive Statistics\")\n",
    "print(\"Mean: \", mean)\n",
    "print(\"Mode: \", mode)\n",
    "print(\"Median: \", median)\n",
    "print(\"Range: \", srange)\n",
    "print(\"Population Variances: \", pvariance)\n",
    "print(\"Population Standard Deviation: \", pstdev)"
   ]
  },
  {
   "cell_type": "markdown",
   "id": "f1f69a90",
   "metadata": {},
   "source": [
    "## Descriptive Statistics (Population and sample data) "
   ]
  },
  {
   "cell_type": "code",
   "execution_count": 13,
   "id": "1417d465",
   "metadata": {},
   "outputs": [
    {
     "name": "stdout",
     "output_type": "stream",
     "text": [
      "Descriptive Statistics\n",
      "Mean:  5.851851851851852\n",
      "Mode:  5\n",
      "Median:  5\n",
      "Range:  8\n",
      "Population Variances:  5.09\n",
      "Population Standard Deviation:  2.26\n"
     ]
    }
   ],
   "source": [
    "import statistics\n",
    "import array as arr\n",
    "\n",
    "friends_usage = [5, 4, 3, 4, 8, 2, 5, 2, 5, 8, 10, 8, 7, 8, 7, 9, 10, 5, 7, 5, 7, 5, 4, 3, 5, 8, 4]\n",
    "\n",
    "#array\n",
    "sample_data = arr.array('i', friends_usage)\n",
    "dataset = sample_data[0:5]\n",
    "sample_data_list = dataset.tolist()\n",
    "\n",
    "#descriptive statistics\n",
    "mean = statistics.mean(friends_usage)\n",
    "mode = statistics.mode(friends_usage)\n",
    "median = statistics.median(friends_usage)\n",
    "\n",
    "#inferential statistics\n",
    "pstdev = round(statistics.pstdev(friends_usage), 2)\n",
    "pvariance = round(statistics.pvariance(friends_usage), 2)\n",
    "srange = (max(friends_usage) - min(friends_usage))\n",
    "\n",
    "print(\"Descriptive Statistics\")\n",
    "print(\"Mean: \", mean)\n",
    "print(\"Mode: \", mode)\n",
    "print(\"Median: \", median)\n",
    "print(\"Range: \", srange)\n",
    "print(\"Population Variances: \", pvariance)\n",
    "print(\"Population Standard Deviation: \", pstdev)"
   ]
  },
  {
   "cell_type": "code",
   "execution_count": null,
   "id": "66d5c883",
   "metadata": {},
   "outputs": [],
   "source": []
  }
 ],
 "metadata": {
  "kernelspec": {
   "display_name": "Python 3 (ipykernel)",
   "language": "python",
   "name": "python3"
  },
  "language_info": {
   "codemirror_mode": {
    "name": "ipython",
    "version": 3
   },
   "file_extension": ".py",
   "mimetype": "text/x-python",
   "name": "python",
   "nbconvert_exporter": "python",
   "pygments_lexer": "ipython3",
   "version": "3.9.2"
  }
 },
 "nbformat": 4,
 "nbformat_minor": 5
}
