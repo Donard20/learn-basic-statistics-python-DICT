{
 "cells": [
  {
   "cell_type": "markdown",
   "id": "b00ee9ad",
   "metadata": {},
   "source": [
    "### Coding Challenge"
   ]
  },
  {
   "cell_type": "markdown",
   "id": "97cc7ec4",
   "metadata": {},
   "source": [
    "#### Write a function that will get average online buys for the past 5 weeks."
   ]
  },
  {
   "cell_type": "code",
   "execution_count": 6,
   "id": "472d6cb7",
   "metadata": {},
   "outputs": [
    {
     "name": "stdout",
     "output_type": "stream",
     "text": [
      "Your average buy on the past 5 weeks are 20.6\n"
     ]
    }
   ],
   "source": [
    "def avg_buy(avg):\n",
    "    print(\"Your average buy on the past 5 weeks are\", avg)\n",
    "\n",
    "#purchased per week\n",
    "items = [19, 27, 17, 24, 16]\n",
    "\n",
    "# total price of items\n",
    "total_list = sum(items)\n",
    "\n",
    "#how many items\n",
    "length = len(items)\n",
    "\n",
    "#get the average\n",
    "mean = total_list / length\n",
    "\n",
    "#call function\n",
    "avg_buy(mean)"
   ]
  },
  {
   "cell_type": "markdown",
   "id": "52d92874",
   "metadata": {},
   "source": [
    "## DICT Solution"
   ]
  },
  {
   "cell_type": "code",
   "execution_count": 8,
   "id": "ef2faefe",
   "metadata": {},
   "outputs": [
    {
     "name": "stdout",
     "output_type": "stream",
     "text": [
      "Average purchased items:\n",
      "20.6\n"
     ]
    }
   ],
   "source": [
    "import array as arr\n",
    "\n",
    "def display_ave():\n",
    "    print(\"Average purchased items:\")\n",
    "    \n",
    "def get_ave():\n",
    "    n = len (items)\n",
    "    get_sum = sum (items)\n",
    "    mean = get_sum / n\n",
    "    m = str(mean)\n",
    "    print(m)\n",
    "\n",
    "online_pur = [19, 27, 17, 24, 16]\n",
    "\n",
    "sample_data = arr.array('i', online_pur)\n",
    "items = sample_data[0:5]\n",
    "sample_data_list = items.tolist()\n",
    "\n",
    "display_ave()\n",
    "get_ave()"
   ]
  }
 ],
 "metadata": {
  "kernelspec": {
   "display_name": "Python 3 (ipykernel)",
   "language": "python",
   "name": "python3"
  },
  "language_info": {
   "codemirror_mode": {
    "name": "ipython",
    "version": 3
   },
   "file_extension": ".py",
   "mimetype": "text/x-python",
   "name": "python",
   "nbconvert_exporter": "python",
   "pygments_lexer": "ipython3",
   "version": "3.9.2"
  }
 },
 "nbformat": 4,
 "nbformat_minor": 5
}
