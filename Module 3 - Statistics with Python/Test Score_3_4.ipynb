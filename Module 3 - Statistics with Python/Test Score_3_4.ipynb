{
 "cells": [
  {
   "cell_type": "markdown",
   "id": "1e57b4af",
   "metadata": {},
   "source": [
    "## Test Scores statistics"
   ]
  },
  {
   "cell_type": "markdown",
   "id": "d0aa7dc9",
   "metadata": {},
   "source": [
    "### Find the average score, frequent score and middle score using statistics library from python"
   ]
  },
  {
   "cell_type": "code",
   "execution_count": 5,
   "id": "dfc11615",
   "metadata": {},
   "outputs": [
    {
     "name": "stdout",
     "output_type": "stream",
     "text": [
      "Mrs Santos class final scores\n",
      "[80, 90, 91, 90, 85, 91, 88, 80, 77, 81, 76, 85, 87, 88, 83, 95, 88, 82, 85, 84]\n",
      "\n",
      "\n",
      "The test result average is:  85.3\n",
      "The most frequent score is:  85\n",
      "The middle score is:  85.0\n"
     ]
    }
   ],
   "source": [
    "#import library \n",
    "import statistics\n",
    "\n",
    "#create test list\n",
    "test_scores = [80, 90, 91, 90, 85, 91, 88, 80, 77, 81,\n",
    "               76, 85, 87, 88, 83, 95, 88, 82, 85, 84]\n",
    "\n",
    "#find the three measures of central tendency of dataset\n",
    "mean = statistics.mean(test_scores)\n",
    "mode = statistics.mode(test_scores)\n",
    "median = statistics.median(test_scores)\n",
    "\n",
    "print(\"Mrs Santos class final scores\")\n",
    "print(test_scores)\n",
    "print(\"\\n\")\n",
    "print(\"The test result average is: \", mean)\n",
    "print(\"The most frequent score is: \", mode)\n",
    "print(\"The middle score is: \", median)"
   ]
  },
  {
   "cell_type": "code",
   "execution_count": null,
   "id": "502c645e",
   "metadata": {},
   "outputs": [],
   "source": []
  }
 ],
 "metadata": {
  "kernelspec": {
   "display_name": "Python 3 (ipykernel)",
   "language": "python",
   "name": "python3"
  },
  "language_info": {
   "codemirror_mode": {
    "name": "ipython",
    "version": 3
   },
   "file_extension": ".py",
   "mimetype": "text/x-python",
   "name": "python",
   "nbconvert_exporter": "python",
   "pygments_lexer": "ipython3",
   "version": "3.9.2"
  }
 },
 "nbformat": 4,
 "nbformat_minor": 5
}
