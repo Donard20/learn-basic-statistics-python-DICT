{
 "cells": [
  {
   "cell_type": "markdown",
   "id": "379088a1",
   "metadata": {},
   "source": [
    "## Mean | Code"
   ]
  },
  {
   "cell_type": "code",
   "execution_count": 1,
   "id": "c911d2f2",
   "metadata": {},
   "outputs": [
    {
     "name": "stdout",
     "output_type": "stream",
     "text": [
      "The mean of this list is 81.5\n"
     ]
    }
   ],
   "source": [
    "def get_mean(ave):                   #--define function\n",
    "    print(\"The mean of this list is\", ave)\n",
    "\n",
    "n_num = [78, 80, 79, 80, 87, 85]     #--data list\n",
    "n = len(n_num)                       #--how many items in the list\n",
    "\n",
    "get_sum = sum(n_num)                 #--summation of the list\n",
    "mean = get_sum / n                   #--get the mean\n",
    "\n",
    "m = str(mean)                        #--convert the result into string\n",
    "\n",
    "get_mean(m)                          #--call function"
   ]
  },
  {
   "cell_type": "markdown",
   "id": "fa77afa0",
   "metadata": {},
   "source": [
    "## Median | Code"
   ]
  },
  {
   "cell_type": "code",
   "execution_count": 4,
   "id": "171936dc",
   "metadata": {},
   "outputs": [
    {
     "ename": "TypeError",
     "evalue": "unsupported operand type(s) for //: 'list' and 'int'",
     "output_type": "error",
     "traceback": [
      "\u001b[1;31m---------------------------------------------------------------------------\u001b[0m",
      "\u001b[1;31mTypeError\u001b[0m                                 Traceback (most recent call last)",
      "Input \u001b[1;32mIn [4]\u001b[0m, in \u001b[0;36m<cell line: 12>\u001b[1;34m()\u001b[0m\n\u001b[0;32m      8\u001b[0m         \u001b[38;5;28;01mreturn\u001b[39;00m nums[\u001b[38;5;28mlen\u001b[39m(nums)\u001b[38;5;241m/\u001b[39m\u001b[38;5;241m/\u001b[39m\u001b[38;5;241m2\u001b[39m]\n\u001b[0;32m     10\u001b[0m n_num \u001b[38;5;241m=\u001b[39m [\u001b[38;5;241m78\u001b[39m, \u001b[38;5;241m80\u001b[39m, \u001b[38;5;241m79\u001b[39m, \u001b[38;5;241m80\u001b[39m, \u001b[38;5;241m87\u001b[39m, \u001b[38;5;241m85\u001b[39m]        \u001b[38;5;66;03m#--list data\u001b[39;00m\n\u001b[1;32m---> 12\u001b[0m \u001b[38;5;28mprint\u001b[39m(\u001b[38;5;124m\"\u001b[39m\u001b[38;5;124mMedian: \u001b[39m\u001b[38;5;124m\"\u001b[39m, \u001b[43mmedian\u001b[49m\u001b[43m(\u001b[49m\u001b[43mn_num\u001b[49m\u001b[43m)\u001b[49m)\n",
      "Input \u001b[1;32mIn [4]\u001b[0m, in \u001b[0;36mmedian\u001b[1;34m(nums)\u001b[0m\n\u001b[0;32m      4\u001b[0m nums\u001b[38;5;241m.\u001b[39msort()\n\u001b[0;32m      5\u001b[0m \u001b[38;5;28;01mif\u001b[39;00m \u001b[38;5;28mlen\u001b[39m(nums) \u001b[38;5;241m%\u001b[39m \u001b[38;5;241m2\u001b[39m \u001b[38;5;241m==\u001b[39m \u001b[38;5;241m0\u001b[39m:\n\u001b[1;32m----> 6\u001b[0m     \u001b[38;5;28;01mreturn\u001b[39;00m \u001b[38;5;28mint\u001b[39m(nums[\u001b[38;5;28mlen\u001b[39m(\u001b[43mnums\u001b[49m\u001b[38;5;241;43m/\u001b[39;49m\u001b[38;5;241;43m/\u001b[39;49m\u001b[38;5;241;43m2\u001b[39;49m\u001b[38;5;241m-\u001b[39m\u001b[38;5;241m1\u001b[39m)]\u001b[38;5;241m+\u001b[39mnums[\u001b[38;5;28mlen\u001b[39m(nums)\u001b[38;5;241m/\u001b[39m\u001b[38;5;241m/\u001b[39m\u001b[38;5;241m2\u001b[39m])\u001b[38;5;241m/\u001b[39m\u001b[38;5;241m2\u001b[39m\n\u001b[0;32m      7\u001b[0m \u001b[38;5;28;01melse\u001b[39;00m:\n\u001b[0;32m      8\u001b[0m     \u001b[38;5;28;01mreturn\u001b[39;00m nums[\u001b[38;5;28mlen\u001b[39m(nums)\u001b[38;5;241m/\u001b[39m\u001b[38;5;241m/\u001b[39m\u001b[38;5;241m2\u001b[39m]\n",
      "\u001b[1;31mTypeError\u001b[0m: unsupported operand type(s) for //: 'list' and 'int'"
     ]
    }
   ],
   "source": [
    "import array as arr         #--import array library\n",
    "\n",
    "def median(nums):\n",
    "    nums.sort()\n",
    "    if len(nums) % 2 == 0:\n",
    "        return int(nums[len(nums//2-1)]+nums[len(nums)//2])/2\n",
    "    else:\n",
    "        return nums[len(nums)//2]\n",
    "\n",
    "n_num = [78, 80, 79, 80, 87, 85]        #--list data\n",
    "\n",
    "print(\"Median: \", median(n_num))"
   ]
  },
  {
   "cell_type": "code",
   "execution_count": null,
   "id": "a1dc6022",
   "metadata": {},
   "outputs": [],
   "source": []
  }
 ],
 "metadata": {
  "kernelspec": {
   "display_name": "Python 3 (ipykernel)",
   "language": "python",
   "name": "python3"
  },
  "language_info": {
   "codemirror_mode": {
    "name": "ipython",
    "version": 3
   },
   "file_extension": ".py",
   "mimetype": "text/x-python",
   "name": "python",
   "nbconvert_exporter": "python",
   "pygments_lexer": "ipython3",
   "version": "3.9.2"
  }
 },
 "nbformat": 4,
 "nbformat_minor": 5
}
